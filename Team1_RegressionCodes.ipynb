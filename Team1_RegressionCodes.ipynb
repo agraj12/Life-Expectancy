{
 "cells": [
  {
   "cell_type": "code",
   "execution_count": 7,
   "metadata": {},
   "outputs": [],
   "source": [
    "import os\n",
    "import numpy as np\n",
    "import pandas as pd\n",
    "import matplotlib.pyplot as plt\n",
    "import plotly.express as px\n",
    "import statsmodels.api as sm\n",
    "import seaborn as sns\n",
    "from sklearn.metrics import mean_squared_error\n",
    "from sklearn.metrics import r2_score\n",
    "from sklearn import linear_model\n",
    "from sklearn.model_selection import train_test_split \n",
    "from sklearn.linear_model import LinearRegression\n",
    "from sklearn import metrics\n",
    "from scipy.stats.mstats import winsorize\n",
    "\n",
    "%matplotlib inline"
   ]
  },
  {
   "cell_type": "code",
   "execution_count": 9,
   "metadata": {
    "scrolled": true
   },
   "outputs": [
    {
     "data": {
      "text/plain": [
       "Country                            2790\n",
       "Year                               2790\n",
       "Status                             2790\n",
       "Life expectancy                    2783\n",
       "Adult Mortality                    2790\n",
       "infant deaths                      2790\n",
       "Alcohol                            2790\n",
       "percentage expenditure             2790\n",
       "Hepatitis B                        2790\n",
       "Measles                            2790\n",
       " BMI                               2790\n",
       "under-five deaths                  2790\n",
       "Polio                              2790\n",
       "Total expenditure                  2790\n",
       "Diphtheria                         2790\n",
       " HIV/AIDS                          2790\n",
       " thinness  1-19 years              2790\n",
       " thinness 5-9 years                2790\n",
       "Income composition of resources    2790\n",
       "Schooling                          2790\n",
       "Population                         2790\n",
       "GDP                                2790\n",
       "dtype: int64"
      ]
     },
     "execution_count": 9,
     "metadata": {},
     "output_type": "execute_result"
    }
   ],
   "source": [
    "df = pd.read_csv(\"C:/Users/tanay/OneDrive/Desktop/Summer Semester/Python/WHO Life Expectancy/Finalised_Data.csv\")\n",
    "df.count()"
   ]
  },
  {
   "cell_type": "code",
   "execution_count": 10,
   "metadata": {
    "scrolled": true
   },
   "outputs": [
    {
     "data": {
      "text/html": [
       "<div>\n",
       "<style scoped>\n",
       "    .dataframe tbody tr th:only-of-type {\n",
       "        vertical-align: middle;\n",
       "    }\n",
       "\n",
       "    .dataframe tbody tr th {\n",
       "        vertical-align: top;\n",
       "    }\n",
       "\n",
       "    .dataframe thead th {\n",
       "        text-align: right;\n",
       "    }\n",
       "</style>\n",
       "<table border=\"1\" class=\"dataframe\">\n",
       "  <thead>\n",
       "    <tr style=\"text-align: right;\">\n",
       "      <th></th>\n",
       "      <th>Country</th>\n",
       "      <th>Year</th>\n",
       "      <th>Status</th>\n",
       "      <th>Life expectancy</th>\n",
       "      <th>Adult Mortality</th>\n",
       "      <th>infant deaths</th>\n",
       "      <th>Alcohol</th>\n",
       "      <th>percentage expenditure</th>\n",
       "      <th>Hepatitis B</th>\n",
       "      <th>Measles</th>\n",
       "      <th>...</th>\n",
       "      <th>Polio</th>\n",
       "      <th>Total expenditure</th>\n",
       "      <th>Diphtheria</th>\n",
       "      <th>HIV/AIDS</th>\n",
       "      <th>thinness  1-19 years</th>\n",
       "      <th>thinness 5-9 years</th>\n",
       "      <th>Income composition of resources</th>\n",
       "      <th>Schooling</th>\n",
       "      <th>Population</th>\n",
       "      <th>GDP</th>\n",
       "    </tr>\n",
       "  </thead>\n",
       "  <tbody>\n",
       "    <tr>\n",
       "      <th>0</th>\n",
       "      <td>Afghanistan</td>\n",
       "      <td>2015</td>\n",
       "      <td>Developing</td>\n",
       "      <td>65.0</td>\n",
       "      <td>263.0</td>\n",
       "      <td>62</td>\n",
       "      <td>0.01</td>\n",
       "      <td>71.279624</td>\n",
       "      <td>65.0</td>\n",
       "      <td>1154.000000</td>\n",
       "      <td>...</td>\n",
       "      <td>58.0</td>\n",
       "      <td>8.16</td>\n",
       "      <td>65.0</td>\n",
       "      <td>0.1</td>\n",
       "      <td>17.2</td>\n",
       "      <td>17.3</td>\n",
       "      <td>0.479</td>\n",
       "      <td>10.1</td>\n",
       "      <td>34413603</td>\n",
       "      <td>1.990711e+10</td>\n",
       "    </tr>\n",
       "    <tr>\n",
       "      <th>1</th>\n",
       "      <td>Afghanistan</td>\n",
       "      <td>2014</td>\n",
       "      <td>Developing</td>\n",
       "      <td>59.9</td>\n",
       "      <td>271.0</td>\n",
       "      <td>64</td>\n",
       "      <td>0.01</td>\n",
       "      <td>73.523582</td>\n",
       "      <td>64.5</td>\n",
       "      <td>1698.333333</td>\n",
       "      <td>...</td>\n",
       "      <td>58.0</td>\n",
       "      <td>8.18</td>\n",
       "      <td>62.0</td>\n",
       "      <td>0.1</td>\n",
       "      <td>17.5</td>\n",
       "      <td>17.5</td>\n",
       "      <td>0.476</td>\n",
       "      <td>10.0</td>\n",
       "      <td>33370794</td>\n",
       "      <td>2.048487e+10</td>\n",
       "    </tr>\n",
       "    <tr>\n",
       "      <th>2</th>\n",
       "      <td>Afghanistan</td>\n",
       "      <td>2013</td>\n",
       "      <td>Developing</td>\n",
       "      <td>59.9</td>\n",
       "      <td>268.0</td>\n",
       "      <td>66</td>\n",
       "      <td>0.01</td>\n",
       "      <td>73.219243</td>\n",
       "      <td>64.0</td>\n",
       "      <td>2242.666667</td>\n",
       "      <td>...</td>\n",
       "      <td>62.0</td>\n",
       "      <td>8.13</td>\n",
       "      <td>64.0</td>\n",
       "      <td>0.1</td>\n",
       "      <td>17.7</td>\n",
       "      <td>17.7</td>\n",
       "      <td>0.470</td>\n",
       "      <td>9.9</td>\n",
       "      <td>32269589</td>\n",
       "      <td>2.056105e+10</td>\n",
       "    </tr>\n",
       "    <tr>\n",
       "      <th>3</th>\n",
       "      <td>Afghanistan</td>\n",
       "      <td>2012</td>\n",
       "      <td>Developing</td>\n",
       "      <td>59.5</td>\n",
       "      <td>272.0</td>\n",
       "      <td>69</td>\n",
       "      <td>0.01</td>\n",
       "      <td>78.184215</td>\n",
       "      <td>67.0</td>\n",
       "      <td>2787.000000</td>\n",
       "      <td>...</td>\n",
       "      <td>67.0</td>\n",
       "      <td>8.52</td>\n",
       "      <td>67.0</td>\n",
       "      <td>0.1</td>\n",
       "      <td>17.9</td>\n",
       "      <td>18.0</td>\n",
       "      <td>0.463</td>\n",
       "      <td>9.8</td>\n",
       "      <td>31161376</td>\n",
       "      <td>2.000162e+10</td>\n",
       "    </tr>\n",
       "    <tr>\n",
       "      <th>4</th>\n",
       "      <td>Afghanistan</td>\n",
       "      <td>2011</td>\n",
       "      <td>Developing</td>\n",
       "      <td>59.2</td>\n",
       "      <td>275.0</td>\n",
       "      <td>71</td>\n",
       "      <td>0.01</td>\n",
       "      <td>7.097109</td>\n",
       "      <td>68.0</td>\n",
       "      <td>3013.000000</td>\n",
       "      <td>...</td>\n",
       "      <td>68.0</td>\n",
       "      <td>7.87</td>\n",
       "      <td>68.0</td>\n",
       "      <td>0.1</td>\n",
       "      <td>18.2</td>\n",
       "      <td>18.2</td>\n",
       "      <td>0.454</td>\n",
       "      <td>9.5</td>\n",
       "      <td>30117413</td>\n",
       "      <td>1.780428e+10</td>\n",
       "    </tr>\n",
       "  </tbody>\n",
       "</table>\n",
       "<p>5 rows × 22 columns</p>\n",
       "</div>"
      ],
      "text/plain": [
       "       Country  Year      Status  Life expectancy   Adult Mortality  \\\n",
       "0  Afghanistan  2015  Developing              65.0            263.0   \n",
       "1  Afghanistan  2014  Developing              59.9            271.0   \n",
       "2  Afghanistan  2013  Developing              59.9            268.0   \n",
       "3  Afghanistan  2012  Developing              59.5            272.0   \n",
       "4  Afghanistan  2011  Developing              59.2            275.0   \n",
       "\n",
       "   infant deaths  Alcohol  percentage expenditure  Hepatitis B     Measles   \\\n",
       "0             62     0.01               71.279624         65.0  1154.000000   \n",
       "1             64     0.01               73.523582         64.5  1698.333333   \n",
       "2             66     0.01               73.219243         64.0  2242.666667   \n",
       "3             69     0.01               78.184215         67.0  2787.000000   \n",
       "4             71     0.01                7.097109         68.0  3013.000000   \n",
       "\n",
       "   ...  Polio  Total expenditure  Diphtheria    HIV/AIDS  \\\n",
       "0  ...   58.0               8.16         65.0        0.1   \n",
       "1  ...   58.0               8.18         62.0        0.1   \n",
       "2  ...   62.0               8.13         64.0        0.1   \n",
       "3  ...   67.0               8.52         67.0        0.1   \n",
       "4  ...   68.0               7.87         68.0        0.1   \n",
       "\n",
       "    thinness  1-19 years   thinness 5-9 years  \\\n",
       "0                   17.2                 17.3   \n",
       "1                   17.5                 17.5   \n",
       "2                   17.7                 17.7   \n",
       "3                   17.9                 18.0   \n",
       "4                   18.2                 18.2   \n",
       "\n",
       "   Income composition of resources  Schooling  Population           GDP  \n",
       "0                            0.479       10.1    34413603  1.990711e+10  \n",
       "1                            0.476       10.0    33370794  2.048487e+10  \n",
       "2                            0.470        9.9    32269589  2.056105e+10  \n",
       "3                            0.463        9.8    31161376  2.000162e+10  \n",
       "4                            0.454        9.5    30117413  1.780428e+10  \n",
       "\n",
       "[5 rows x 22 columns]"
      ]
     },
     "execution_count": 10,
     "metadata": {},
     "output_type": "execute_result"
    }
   ],
   "source": [
    "df.head()"
   ]
  },
  {
   "cell_type": "code",
   "execution_count": 11,
   "metadata": {},
   "outputs": [],
   "source": [
    "# df1=df"
   ]
  },
  {
   "cell_type": "code",
   "execution_count": null,
   "metadata": {},
   "outputs": [],
   "source": [
    "# df['GDP per capita'] = df['GDP']/df['Population']"
   ]
  },
  {
   "cell_type": "code",
   "execution_count": null,
   "metadata": {},
   "outputs": [],
   "source": [
    "# df.head()"
   ]
  },
  {
   "cell_type": "code",
   "execution_count": 12,
   "metadata": {
    "scrolled": true
   },
   "outputs": [
    {
     "name": "stderr",
     "output_type": "stream",
     "text": [
      "C:\\Users\\tanay\\Anaconda3\\lib\\site-packages\\ipykernel_launcher.py:1: SettingWithCopyWarning:\n",
      "\n",
      "\n",
      "A value is trying to be set on a copy of a slice from a DataFrame\n",
      "\n",
      "See the caveats in the documentation: http://pandas.pydata.org/pandas-docs/stable/indexing.html#indexing-view-versus-copy\n",
      "\n",
      "C:\\Users\\tanay\\Anaconda3\\lib\\site-packages\\ipykernel_launcher.py:2: SettingWithCopyWarning:\n",
      "\n",
      "\n",
      "A value is trying to be set on a copy of a slice from a DataFrame\n",
      "\n",
      "See the caveats in the documentation: http://pandas.pydata.org/pandas-docs/stable/indexing.html#indexing-view-versus-copy\n",
      "\n"
     ]
    }
   ],
   "source": [
    "df.Status[df.Status =='Developing'] = 0\n",
    "df.Status[df.Status =='Developed'] = 1"
   ]
  },
  {
   "cell_type": "code",
   "execution_count": 13,
   "metadata": {
    "scrolled": true
   },
   "outputs": [
    {
     "data": {
      "text/html": [
       "<div>\n",
       "<style scoped>\n",
       "    .dataframe tbody tr th:only-of-type {\n",
       "        vertical-align: middle;\n",
       "    }\n",
       "\n",
       "    .dataframe tbody tr th {\n",
       "        vertical-align: top;\n",
       "    }\n",
       "\n",
       "    .dataframe thead th {\n",
       "        text-align: right;\n",
       "    }\n",
       "</style>\n",
       "<table border=\"1\" class=\"dataframe\">\n",
       "  <thead>\n",
       "    <tr style=\"text-align: right;\">\n",
       "      <th></th>\n",
       "      <th>Year</th>\n",
       "      <th>Life expectancy</th>\n",
       "      <th>Adult Mortality</th>\n",
       "      <th>infant deaths</th>\n",
       "      <th>Alcohol</th>\n",
       "      <th>percentage expenditure</th>\n",
       "      <th>Hepatitis B</th>\n",
       "      <th>Measles</th>\n",
       "      <th>BMI</th>\n",
       "      <th>under-five deaths</th>\n",
       "      <th>Polio</th>\n",
       "      <th>Total expenditure</th>\n",
       "      <th>Diphtheria</th>\n",
       "      <th>HIV/AIDS</th>\n",
       "      <th>thinness  1-19 years</th>\n",
       "      <th>thinness 5-9 years</th>\n",
       "      <th>Income composition of resources</th>\n",
       "      <th>Schooling</th>\n",
       "      <th>Population</th>\n",
       "      <th>GDP</th>\n",
       "    </tr>\n",
       "  </thead>\n",
       "  <tbody>\n",
       "    <tr>\n",
       "      <th>count</th>\n",
       "      <td>2790.000000</td>\n",
       "      <td>2783.000000</td>\n",
       "      <td>2790.000000</td>\n",
       "      <td>2790.000000</td>\n",
       "      <td>2790.000000</td>\n",
       "      <td>2790.000000</td>\n",
       "      <td>2790.000000</td>\n",
       "      <td>2790.000000</td>\n",
       "      <td>2790.000000</td>\n",
       "      <td>2790.000000</td>\n",
       "      <td>2790.000000</td>\n",
       "      <td>2790.000000</td>\n",
       "      <td>2790.000000</td>\n",
       "      <td>2790.000000</td>\n",
       "      <td>2790.000000</td>\n",
       "      <td>2790.000000</td>\n",
       "      <td>2790.000000</td>\n",
       "      <td>2790.000000</td>\n",
       "      <td>2.790000e+03</td>\n",
       "      <td>2.790000e+03</td>\n",
       "    </tr>\n",
       "    <tr>\n",
       "      <th>mean</th>\n",
       "      <td>2007.514337</td>\n",
       "      <td>69.678692</td>\n",
       "      <td>186.933320</td>\n",
       "      <td>30.874194</td>\n",
       "      <td>4.662632</td>\n",
       "      <td>775.639843</td>\n",
       "      <td>86.272895</td>\n",
       "      <td>2363.619355</td>\n",
       "      <td>38.672466</td>\n",
       "      <td>42.750538</td>\n",
       "      <td>87.307706</td>\n",
       "      <td>6.260300</td>\n",
       "      <td>87.201254</td>\n",
       "      <td>1.576201</td>\n",
       "      <td>4.820367</td>\n",
       "      <td>4.853821</td>\n",
       "      <td>0.635735</td>\n",
       "      <td>12.312017</td>\n",
       "      <td>3.773772e+07</td>\n",
       "      <td>3.209533e+11</td>\n",
       "    </tr>\n",
       "    <tr>\n",
       "      <th>std</th>\n",
       "      <td>4.605674</td>\n",
       "      <td>9.351714</td>\n",
       "      <td>116.533817</td>\n",
       "      <td>120.881196</td>\n",
       "      <td>3.999828</td>\n",
       "      <td>2032.951041</td>\n",
       "      <td>13.009292</td>\n",
       "      <td>11499.083312</td>\n",
       "      <td>20.027523</td>\n",
       "      <td>164.444341</td>\n",
       "      <td>14.323955</td>\n",
       "      <td>2.401596</td>\n",
       "      <td>14.877698</td>\n",
       "      <td>4.443668</td>\n",
       "      <td>4.473728</td>\n",
       "      <td>4.565899</td>\n",
       "      <td>0.207141</td>\n",
       "      <td>3.094900</td>\n",
       "      <td>1.380846e+08</td>\n",
       "      <td>1.288760e+12</td>\n",
       "    </tr>\n",
       "    <tr>\n",
       "      <th>min</th>\n",
       "      <td>2000.000000</td>\n",
       "      <td>36.300000</td>\n",
       "      <td>1.000000</td>\n",
       "      <td>0.000000</td>\n",
       "      <td>0.010000</td>\n",
       "      <td>0.000000</td>\n",
       "      <td>8.000000</td>\n",
       "      <td>0.000000</td>\n",
       "      <td>1.000000</td>\n",
       "      <td>0.000000</td>\n",
       "      <td>9.000000</td>\n",
       "      <td>0.650000</td>\n",
       "      <td>9.000000</td>\n",
       "      <td>0.100000</td>\n",
       "      <td>0.100000</td>\n",
       "      <td>0.100000</td>\n",
       "      <td>0.000000</td>\n",
       "      <td>0.000000</td>\n",
       "      <td>1.082100e+04</td>\n",
       "      <td>3.750751e+07</td>\n",
       "    </tr>\n",
       "    <tr>\n",
       "      <th>25%</th>\n",
       "      <td>2004.000000</td>\n",
       "      <td>63.900000</td>\n",
       "      <td>98.270833</td>\n",
       "      <td>0.000000</td>\n",
       "      <td>1.100000</td>\n",
       "      <td>8.601906</td>\n",
       "      <td>79.647333</td>\n",
       "      <td>0.000000</td>\n",
       "      <td>19.300000</td>\n",
       "      <td>0.000000</td>\n",
       "      <td>82.000000</td>\n",
       "      <td>4.622500</td>\n",
       "      <td>82.000000</td>\n",
       "      <td>0.100000</td>\n",
       "      <td>1.600000</td>\n",
       "      <td>1.500000</td>\n",
       "      <td>0.506250</td>\n",
       "      <td>10.400000</td>\n",
       "      <td>2.181688e+06</td>\n",
       "      <td>5.316436e+09</td>\n",
       "    </tr>\n",
       "    <tr>\n",
       "      <th>50%</th>\n",
       "      <td>2008.000000</td>\n",
       "      <td>72.500000</td>\n",
       "      <td>161.000000</td>\n",
       "      <td>3.000000</td>\n",
       "      <td>3.580000</td>\n",
       "      <td>76.056492</td>\n",
       "      <td>89.000000</td>\n",
       "      <td>17.000000</td>\n",
       "      <td>43.900000</td>\n",
       "      <td>3.000000</td>\n",
       "      <td>94.000000</td>\n",
       "      <td>5.910000</td>\n",
       "      <td>94.000000</td>\n",
       "      <td>0.100000</td>\n",
       "      <td>3.300000</td>\n",
       "      <td>3.300000</td>\n",
       "      <td>0.683000</td>\n",
       "      <td>12.500000</td>\n",
       "      <td>7.989543e+06</td>\n",
       "      <td>2.139850e+10</td>\n",
       "    </tr>\n",
       "    <tr>\n",
       "      <th>75%</th>\n",
       "      <td>2012.000000</td>\n",
       "      <td>76.000000</td>\n",
       "      <td>238.000000</td>\n",
       "      <td>21.000000</td>\n",
       "      <td>7.727500</td>\n",
       "      <td>472.215945</td>\n",
       "      <td>96.000000</td>\n",
       "      <td>341.750000</td>\n",
       "      <td>56.400000</td>\n",
       "      <td>26.000000</td>\n",
       "      <td>97.000000</td>\n",
       "      <td>7.760000</td>\n",
       "      <td>97.000000</td>\n",
       "      <td>0.600000</td>\n",
       "      <td>7.100000</td>\n",
       "      <td>7.200000</td>\n",
       "      <td>0.786000</td>\n",
       "      <td>14.500000</td>\n",
       "      <td>2.605396e+07</td>\n",
       "      <td>1.480000e+11</td>\n",
       "    </tr>\n",
       "    <tr>\n",
       "      <th>max</th>\n",
       "      <td>2015.000000</td>\n",
       "      <td>89.000000</td>\n",
       "      <td>723.000000</td>\n",
       "      <td>1800.000000</td>\n",
       "      <td>17.870000</td>\n",
       "      <td>19479.911610</td>\n",
       "      <td>99.000000</td>\n",
       "      <td>212183.000000</td>\n",
       "      <td>87.300000</td>\n",
       "      <td>2500.000000</td>\n",
       "      <td>99.000000</td>\n",
       "      <td>17.600000</td>\n",
       "      <td>99.000000</td>\n",
       "      <td>43.500000</td>\n",
       "      <td>27.700000</td>\n",
       "      <td>28.600000</td>\n",
       "      <td>0.948000</td>\n",
       "      <td>20.700000</td>\n",
       "      <td>1.371220e+09</td>\n",
       "      <td>1.820000e+13</td>\n",
       "    </tr>\n",
       "  </tbody>\n",
       "</table>\n",
       "</div>"
      ],
      "text/plain": [
       "              Year  Life expectancy   Adult Mortality  infant deaths  \\\n",
       "count  2790.000000       2783.000000      2790.000000    2790.000000   \n",
       "mean   2007.514337         69.678692       186.933320      30.874194   \n",
       "std       4.605674          9.351714       116.533817     120.881196   \n",
       "min    2000.000000         36.300000         1.000000       0.000000   \n",
       "25%    2004.000000         63.900000        98.270833       0.000000   \n",
       "50%    2008.000000         72.500000       161.000000       3.000000   \n",
       "75%    2012.000000         76.000000       238.000000      21.000000   \n",
       "max    2015.000000         89.000000       723.000000    1800.000000   \n",
       "\n",
       "           Alcohol  percentage expenditure  Hepatitis B       Measles   \\\n",
       "count  2790.000000             2790.000000  2790.000000    2790.000000   \n",
       "mean      4.662632              775.639843    86.272895    2363.619355   \n",
       "std       3.999828             2032.951041    13.009292   11499.083312   \n",
       "min       0.010000                0.000000     8.000000       0.000000   \n",
       "25%       1.100000                8.601906    79.647333       0.000000   \n",
       "50%       3.580000               76.056492    89.000000      17.000000   \n",
       "75%       7.727500              472.215945    96.000000     341.750000   \n",
       "max      17.870000            19479.911610    99.000000  212183.000000   \n",
       "\n",
       "              BMI   under-five deaths         Polio  Total expenditure  \\\n",
       "count  2790.000000         2790.000000  2790.000000        2790.000000   \n",
       "mean     38.672466           42.750538    87.307706           6.260300   \n",
       "std      20.027523          164.444341    14.323955           2.401596   \n",
       "min       1.000000            0.000000     9.000000           0.650000   \n",
       "25%      19.300000            0.000000    82.000000           4.622500   \n",
       "50%      43.900000            3.000000    94.000000           5.910000   \n",
       "75%      56.400000           26.000000    97.000000           7.760000   \n",
       "max      87.300000         2500.000000    99.000000          17.600000   \n",
       "\n",
       "       Diphtheria      HIV/AIDS   thinness  1-19 years   thinness 5-9 years  \\\n",
       "count  2790.000000  2790.000000            2790.000000          2790.000000   \n",
       "mean     87.201254     1.576201               4.820367             4.853821   \n",
       "std      14.877698     4.443668               4.473728             4.565899   \n",
       "min       9.000000     0.100000               0.100000             0.100000   \n",
       "25%      82.000000     0.100000               1.600000             1.500000   \n",
       "50%      94.000000     0.100000               3.300000             3.300000   \n",
       "75%      97.000000     0.600000               7.100000             7.200000   \n",
       "max      99.000000    43.500000              27.700000            28.600000   \n",
       "\n",
       "       Income composition of resources    Schooling    Population  \\\n",
       "count                      2790.000000  2790.000000  2.790000e+03   \n",
       "mean                          0.635735    12.312017  3.773772e+07   \n",
       "std                           0.207141     3.094900  1.380846e+08   \n",
       "min                           0.000000     0.000000  1.082100e+04   \n",
       "25%                           0.506250    10.400000  2.181688e+06   \n",
       "50%                           0.683000    12.500000  7.989543e+06   \n",
       "75%                           0.786000    14.500000  2.605396e+07   \n",
       "max                           0.948000    20.700000  1.371220e+09   \n",
       "\n",
       "                GDP  \n",
       "count  2.790000e+03  \n",
       "mean   3.209533e+11  \n",
       "std    1.288760e+12  \n",
       "min    3.750751e+07  \n",
       "25%    5.316436e+09  \n",
       "50%    2.139850e+10  \n",
       "75%    1.480000e+11  \n",
       "max    1.820000e+13  "
      ]
     },
     "execution_count": 13,
     "metadata": {},
     "output_type": "execute_result"
    }
   ],
   "source": [
    "df.describe()"
   ]
  },
  {
   "cell_type": "code",
   "execution_count": null,
   "metadata": {
    "scrolled": true
   },
   "outputs": [],
   "source": [
    "# df.head()"
   ]
  },
  {
   "cell_type": "code",
   "execution_count": null,
   "metadata": {},
   "outputs": [],
   "source": [
    "# df.dropna(axis=0,how='any',inplace=True)"
   ]
  },
  {
   "cell_type": "code",
   "execution_count": 14,
   "metadata": {},
   "outputs": [
    {
     "data": {
      "text/plain": [
       "Country                            0\n",
       "Year                               0\n",
       "Status                             0\n",
       "Life expectancy                    0\n",
       "Adult Mortality                    0\n",
       "infant deaths                      0\n",
       "Alcohol                            0\n",
       "percentage expenditure             0\n",
       "Hepatitis B                        0\n",
       "Measles                            0\n",
       " BMI                               0\n",
       "under-five deaths                  0\n",
       "Polio                              0\n",
       "Total expenditure                  0\n",
       "Diphtheria                         0\n",
       " HIV/AIDS                          0\n",
       " thinness  1-19 years              0\n",
       " thinness 5-9 years                0\n",
       "Income composition of resources    0\n",
       "Schooling                          0\n",
       "Population                         0\n",
       "GDP                                0\n",
       "dtype: int64"
      ]
     },
     "execution_count": 14,
     "metadata": {},
     "output_type": "execute_result"
    }
   ],
   "source": [
    "df = df.fillna(method = 'ffill')\n",
    "df.isnull().sum()"
   ]
  },
  {
   "cell_type": "code",
   "execution_count": 15,
   "metadata": {},
   "outputs": [
    {
     "data": {
      "text/plain": [
       "Country                            2790\n",
       "Year                               2790\n",
       "Status                             2790\n",
       "Life expectancy                    2790\n",
       "Adult Mortality                    2790\n",
       "infant deaths                      2790\n",
       "Alcohol                            2790\n",
       "percentage expenditure             2790\n",
       "Hepatitis B                        2790\n",
       "Measles                            2790\n",
       " BMI                               2790\n",
       "under-five deaths                  2790\n",
       "Polio                              2790\n",
       "Total expenditure                  2790\n",
       "Diphtheria                         2790\n",
       " HIV/AIDS                          2790\n",
       " thinness  1-19 years              2790\n",
       " thinness 5-9 years                2790\n",
       "Income composition of resources    2790\n",
       "Schooling                          2790\n",
       "Population                         2790\n",
       "GDP                                2790\n",
       "dtype: int64"
      ]
     },
     "execution_count": 15,
     "metadata": {},
     "output_type": "execute_result"
    }
   ],
   "source": [
    "df.count()"
   ]
  },
  {
   "cell_type": "code",
   "execution_count": 4,
   "metadata": {},
   "outputs": [],
   "source": [
    "# Regression using SciKit Learn"
   ]
  },
  {
   "cell_type": "code",
   "execution_count": 21,
   "metadata": {},
   "outputs": [],
   "source": [
    "# Subsetting for X\n",
    "X = df[['Status','Adult Mortality','infant deaths','Alcohol','percentage expenditure','Hepatitis B','Measles ','under-five deaths ','Polio','Total expenditure','Diphtheria ',' HIV/AIDS','GDP','Population',' thinness  1-19 years',' thinness 5-9 years','Income composition of resources','Schooling']]\n",
    "# X.head()"
   ]
  },
  {
   "cell_type": "code",
   "execution_count": 22,
   "metadata": {
    "scrolled": false
   },
   "outputs": [],
   "source": [
    "# Subsetting for Y\n",
    "Y=df['Life expectancy '].values\n",
    "# Y.head()"
   ]
  },
  {
   "cell_type": "code",
   "execution_count": 23,
   "metadata": {},
   "outputs": [],
   "source": [
    "# Test-Train split\n",
    "x_train, x_test, y_train, y_test = train_test_split(X,Y,test_size = 0.2)"
   ]
  },
  {
   "cell_type": "code",
   "execution_count": 24,
   "metadata": {},
   "outputs": [
    {
     "data": {
      "text/plain": [
       "<matplotlib.axes._subplots.AxesSubplot at 0x20897f417b8>"
      ]
     },
     "execution_count": 24,
     "metadata": {},
     "output_type": "execute_result"
    },
    {
     "data": {
      "image/png": "[encoded data removed]",
      "text/plain": [
       "<Figure size 1080x720 with 1 Axes>"
      ]
     },
     "metadata": {
      "needs_background": "light"
     },
     "output_type": "display_data"
    }
   ],
   "source": [
    "#Plot for average y value range\n",
    "plt.figure(figsize=(15,10))\n",
    "plt.tight_layout()\n",
    "sns.distplot(Y)"
   ]
  },
  {
   "cell_type": "code",
   "execution_count": 25,
   "metadata": {},
   "outputs": [
    {
     "data": {
      "text/plain": [
       "LinearRegression(copy_X=True, fit_intercept=True, n_jobs=None,\n",
       "         normalize=False)"
      ]
     },
     "execution_count": 25,
     "metadata": {},
     "output_type": "execute_result"
    }
   ],
   "source": [
    "#Building the regression model\n",
    "regressor = LinearRegression()  \n",
    "regressor.fit(x_train, y_train)"
   ]
  },
  {
   "cell_type": "code",
   "execution_count": 26,
   "metadata": {},
   "outputs": [],
   "source": [
    "#Calculating predicted value of y from the model\n",
    "y_pred = regressor.predict(x_test)"
   ]
  },
  {
   "cell_type": "code",
   "execution_count": 27,
   "metadata": {},
   "outputs": [
    {
     "data": {
      "text/html": [
       "<div>\n",
       "<style scoped>\n",
       "    .dataframe tbody tr th:only-of-type {\n",
       "        vertical-align: middle;\n",
       "    }\n",
       "\n",
       "    .dataframe tbody tr th {\n",
       "        vertical-align: top;\n",
       "    }\n",
       "\n",
       "    .dataframe thead th {\n",
       "        text-align: right;\n",
       "    }\n",
       "</style>\n",
       "<table border=\"1\" class=\"dataframe\">\n",
       "  <thead>\n",
       "    <tr style=\"text-align: right;\">\n",
       "      <th></th>\n",
       "      <th>Actual</th>\n",
       "      <th>Predicted</th>\n",
       "    </tr>\n",
       "  </thead>\n",
       "  <tbody>\n",
       "    <tr>\n",
       "      <th>0</th>\n",
       "      <td>74.2</td>\n",
       "      <td>72.471593</td>\n",
       "    </tr>\n",
       "    <tr>\n",
       "      <th>1</th>\n",
       "      <td>74.4</td>\n",
       "      <td>72.974176</td>\n",
       "    </tr>\n",
       "    <tr>\n",
       "      <th>2</th>\n",
       "      <td>65.0</td>\n",
       "      <td>66.690247</td>\n",
       "    </tr>\n",
       "    <tr>\n",
       "      <th>3</th>\n",
       "      <td>62.9</td>\n",
       "      <td>63.224619</td>\n",
       "    </tr>\n",
       "    <tr>\n",
       "      <th>4</th>\n",
       "      <td>54.1</td>\n",
       "      <td>54.338057</td>\n",
       "    </tr>\n",
       "  </tbody>\n",
       "</table>\n",
       "</div>"
      ],
      "text/plain": [
       "   Actual  Predicted\n",
       "0    74.2  72.471593\n",
       "1    74.4  72.974176\n",
       "2    65.0  66.690247\n",
       "3    62.9  63.224619\n",
       "4    54.1  54.338057"
      ]
     },
     "execution_count": 27,
     "metadata": {},
     "output_type": "execute_result"
    }
   ],
   "source": [
    "#Checking predicted vs actual value\n",
    "df1=pd.DataFrame({'Actual': y_test, 'Predicted': y_pred})\n",
    "df1.head()"
   ]
  },
  {
   "cell_type": "code",
   "execution_count": 28,
   "metadata": {},
   "outputs": [
    {
     "name": "stdout",
     "output_type": "stream",
     "text": [
      "r_sq =  0.9035180695916075\n",
      "Adjusted r-square =  0.902733309199673\n"
     ]
    }
   ],
   "source": [
    "#Calculating r-square and adjusted r2 values\n",
    "r2 = regressor.score(X,Y)\n",
    "print('r_sq = ', r2)\n",
    "n =len(x_train)\n",
    "p =X.shape[1]\n",
    "\n",
    "r2_adj =1- (1-r2)*(n-1)/(n-(p+1))\n",
    "print('Adjusted r-square = ',r2_adj)\n"
   ]
  },
  {
   "cell_type": "code",
   "execution_count": 29,
   "metadata": {},
   "outputs": [
    {
     "name": "stdout",
     "output_type": "stream",
     "text": [
      "test_set_r2 =  0.8976575756522226 test_set_rmse=  3.0600735003769635\n",
      "Mean Absolute Error: 2.0680177240331283\n",
      "Mean Squared Error: 9.364049827709321\n",
      "Root Mean Squared Error: 3.0600735003769635\n"
     ]
    }
   ],
   "source": [
    "#2nd method for calculating r-squared value and RMSE\n",
    "test_set_rmse = (np.sqrt(mean_squared_error(y_test, y_pred)))\n",
    "test_set_r2 = r2_score(y_test, y_pred)\n",
    "print ('test_set_r2 = ',test_set_r2,'test_set_rmse= ',test_set_rmse) \n",
    "print('Mean Absolute Error:', metrics.mean_absolute_error(y_test, y_pred))\n",
    "print('Mean Squared Error:', metrics.mean_squared_error(y_test, y_pred))\n",
    "print('Root Mean Squared Error:', np.sqrt(metrics.mean_squared_error(y_test, y_pred)))\n"
   ]
  },
  {
   "cell_type": "code",
   "execution_count": 30,
   "metadata": {},
   "outputs": [
    {
     "name": "stdout",
     "output_type": "stream",
     "text": [
      "intercept: 62.69409130392498\n",
      "coefficients:\n",
      "[ 4.11841592e-01 -4.62842940e-02  2.12748588e-02  5.92178527e-02\n",
      "  1.66020307e-04 -5.15707417e-02 -1.00835165e-05 -1.67238469e-02\n",
      "  3.18171654e-03  7.71005552e-02  1.02352336e-01 -5.57122988e-02\n",
      " -1.46036576e-13  1.71376221e-09 -1.05318426e-02 -5.96642323e-02\n",
      "  4.55146252e+00  6.12745600e-01]\n"
     ]
    }
   ],
   "source": [
    "#Calculating intercept and coefficients for regression variables\n",
    "intercept, coefficients = regressor.intercept_, regressor.coef_\n",
    "print('intercept:', intercept)\n",
    "print('coefficients:', coefficients, sep='\\n')\n"
   ]
  },
  {
   "cell_type": "code",
   "execution_count": 31,
   "metadata": {},
   "outputs": [
    {
     "name": "stdout",
     "output_type": "stream",
     "text": [
      "                            OLS Regression Results                            \n",
      "==============================================================================\n",
      "Dep. Variable:                      y   R-squared:                       0.904\n",
      "Model:                            OLS   Adj. R-squared:                  0.903\n",
      "Method:                 Least Squares   F-statistic:                     1447.\n",
      "Date:                Sun, 28 Jul 2019   Prob (F-statistic):               0.00\n",
      "Time:                        19:35:44   Log-Likelihood:                -6930.6\n",
      "No. Observations:                2790   AIC:                         1.390e+04\n",
      "Df Residuals:                    2771   BIC:                         1.401e+04\n",
      "Df Model:                          18                                         \n",
      "Covariance Type:            nonrobust                                         \n",
      "===================================================================================================\n",
      "                                      coef    std err          t      P>|t|      [0.025      0.975]\n",
      "---------------------------------------------------------------------------------------------------\n",
      "const                              61.9606      0.624     99.273      0.000      60.737      63.184\n",
      "Status                              0.5094      0.206      2.473      0.013       0.105       0.913\n",
      "Adult Mortality                    -0.0451      0.001    -48.482      0.000      -0.047      -0.043\n",
      "infant deaths                       0.0174      0.008      2.202      0.028       0.002       0.033\n",
      "Alcohol                             0.0607      0.020      3.040      0.002       0.022       0.100\n",
      "percentage expenditure              0.0002   3.17e-05      4.857      0.000    9.17e-05       0.000\n",
      "Hepatitis B                        -0.0499      0.006     -8.627      0.000      -0.061      -0.039\n",
      "Measles                         -1.332e-05   6.56e-06     -2.031      0.042   -2.62e-05   -4.59e-07\n",
      "under-five deaths                  -0.0139      0.006     -2.494      0.013      -0.025      -0.003\n",
      "Polio                               0.0117      0.017      0.712      0.477      -0.021       0.044\n",
      "Total expenditure                   0.0357      0.027      1.310      0.190      -0.018       0.089\n",
      "Diphtheria                          0.0983      0.016      6.243      0.000       0.067       0.129\n",
      " HIV/AIDS                          -0.0850      0.019     -4.477      0.000      -0.122      -0.048\n",
      " thinness  1-19 years              -0.0087      0.036     -0.239      0.811      -0.080       0.063\n",
      " thinness 5-9 years                -0.0608      0.036     -1.708      0.088      -0.131       0.009\n",
      "Income composition of resources     4.3653      0.428     10.208      0.000       3.527       5.204\n",
      "Schooling                           0.6396      0.035     18.453      0.000       0.572       0.708\n",
      "GDP                             -1.103e-13    5.7e-14     -1.936      0.053   -2.22e-13     1.4e-15\n",
      "Population                       1.803e-09   9.21e-10      1.958      0.050   -2.75e-12    3.61e-09\n",
      "==============================================================================\n",
      "Omnibus:                      666.025   Durbin-Watson:                   0.612\n",
      "Prob(Omnibus):                  0.000   Jarque-Bera (JB):             7032.485\n",
      "Skew:                          -0.822   Prob(JB):                         0.00\n",
      "Kurtosis:                      10.602   Cond. No.                     1.52e+13\n",
      "==============================================================================\n",
      "\n",
      "Warnings:\n",
      "[1] Standard Errors assume that the covariance matrix of the errors is correctly specified.\n",
      "[2] The condition number is large, 1.52e+13. This might indicate that there are\n",
      "strong multicollinearity or other numerical problems.\n"
     ]
    },
    {
     "name": "stderr",
     "output_type": "stream",
     "text": [
      "C:\\Users\\tanay\\Anaconda3\\lib\\site-packages\\numpy\\core\\fromnumeric.py:2389: FutureWarning:\n",
      "\n",
      "Method .ptp is deprecated and will be removed in a future version. Use numpy.ptp instead.\n",
      "\n"
     ]
    }
   ],
   "source": [
    "#Regression using statsmodel (Adding constant and performing regression using OLS method)\n",
    "import statsmodels.api as sm\n",
    "x_sm = df[['Status','Adult Mortality','infant deaths','Alcohol','percentage expenditure','Hepatitis B','Measles ','under-five deaths ','Polio','Total expenditure','Diphtheria ',' HIV/AIDS',' thinness  1-19 years',' thinness 5-9 years','Income composition of resources','Schooling','GDP','Population']]\n",
    "y_sm= df['Life expectancy '].values\n",
    "x_sm = sm.add_constant(x_sm)\n",
    "model = sm.OLS(y_sm, x_sm).fit()\n",
    "predictions = model.predict(x_sm)\n",
    "print(model.summary())"
   ]
  },
  {
   "cell_type": "code",
   "execution_count": 32,
   "metadata": {
    "scrolled": false
   },
   "outputs": [
    {
     "name": "stdout",
     "output_type": "stream",
     "text": [
      "                            OLS Regression Results                            \n",
      "==============================================================================\n",
      "Dep. Variable:                      y   R-squared:                       0.903\n",
      "Model:                            OLS   Adj. R-squared:                  0.903\n",
      "Method:                 Least Squares   F-statistic:                     1846.\n",
      "Date:                Sun, 28 Jul 2019   Prob (F-statistic):               0.00\n",
      "Time:                        19:35:46   Log-Likelihood:                -6941.6\n",
      "No. Observations:                2790   AIC:                         1.391e+04\n",
      "Df Residuals:                    2775   BIC:                         1.400e+04\n",
      "Df Model:                          14                                         \n",
      "Covariance Type:            nonrobust                                         \n",
      "===================================================================================================\n",
      "                                      coef    std err          t      P>|t|      [0.025      0.975]\n",
      "---------------------------------------------------------------------------------------------------\n",
      "const                              61.7189      0.590    104.589      0.000      60.562      62.876\n",
      "Status                              0.5544      0.206      2.698      0.007       0.151       0.957\n",
      "Adult Mortality                    -0.0455      0.001    -48.975      0.000      -0.047      -0.044\n",
      "infant deaths                       0.0129      0.008      1.642      0.101      -0.003       0.028\n",
      "Alcohol                             0.0796      0.020      4.072      0.000       0.041       0.118\n",
      "percentage expenditure              0.0002   3.17e-05      5.010      0.000    9.67e-05       0.000\n",
      "Hepatitis B                        -0.0509      0.006     -9.069      0.000      -0.062      -0.040\n",
      "Measles                         -1.405e-05   6.57e-06     -2.139      0.033   -2.69e-05   -1.17e-06\n",
      "under-five deaths                  -0.0115      0.006     -2.072      0.038      -0.022      -0.001\n",
      "Diphtheria                          0.1089      0.006     18.119      0.000       0.097       0.121\n",
      " HIV/AIDS                          -0.0881      0.019     -4.641      0.000      -0.125      -0.051\n",
      "Income composition of resources     4.4139      0.426     10.362      0.000       3.579       5.249\n",
      "Schooling                           0.6623      0.034     19.253      0.000       0.595       0.730\n",
      "GDP                             -8.963e-14   5.49e-14     -1.632      0.103   -1.97e-13     1.8e-14\n",
      "Population                       2.031e-09   9.16e-10      2.218      0.027    2.35e-10    3.83e-09\n",
      "==============================================================================\n",
      "Omnibus:                      625.477   Durbin-Watson:                   0.608\n",
      "Prob(Omnibus):                  0.000   Jarque-Bera (JB):             6592.145\n",
      "Skew:                          -0.753   Prob(JB):                         0.00\n",
      "Kurtosis:                      10.378   Cond. No.                     1.43e+13\n",
      "==============================================================================\n",
      "\n",
      "Warnings:\n",
      "[1] Standard Errors assume that the covariance matrix of the errors is correctly specified.\n",
      "[2] The condition number is large, 1.43e+13. This might indicate that there are\n",
      "strong multicollinearity or other numerical problems.\n"
     ]
    }
   ],
   "source": [
    "#Dropping columns : Polio, Total Expenditure, Thinness 1-5 years and thinness5-19 years\n",
    "import statsmodels.api as sm\n",
    "x_sm1 = df[['Status','Adult Mortality','infant deaths','Alcohol','percentage expenditure','Hepatitis B','Measles ','under-five deaths ','Diphtheria ',' HIV/AIDS','Income composition of resources','Schooling','GDP','Population']]\n",
    "y_sm1= df['Life expectancy '].values\n",
    "x_sm1 = sm.add_constant(x_sm1)\n",
    "model1 = sm.OLS(y_sm1, x_sm1).fit()\n",
    "predictions1 = model1.predict(x_sm1)\n",
    "print(model1.summary())"
   ]
  },
  {
   "cell_type": "code",
   "execution_count": 33,
   "metadata": {},
   "outputs": [
    {
     "name": "stdout",
     "output_type": "stream",
     "text": [
      "                            OLS Regression Results                            \n",
      "==============================================================================\n",
      "Dep. Variable:                      y   R-squared:                       0.903\n",
      "Model:                            OLS   Adj. R-squared:                  0.902\n",
      "Method:                 Least Squares   F-statistic:                     2149.\n",
      "Date:                Sun, 28 Jul 2019   Prob (F-statistic):               0.00\n",
      "Time:                        19:35:47   Log-Likelihood:                -6945.3\n",
      "No. Observations:                2790   AIC:                         1.392e+04\n",
      "Df Residuals:                    2777   BIC:                         1.399e+04\n",
      "Df Model:                          12                                         \n",
      "Covariance Type:            nonrobust                                         \n",
      "===================================================================================================\n",
      "                                      coef    std err          t      P>|t|      [0.025      0.975]\n",
      "---------------------------------------------------------------------------------------------------\n",
      "const                              61.5408      0.587    104.871      0.000      60.390      62.691\n",
      "Status                              0.4855      0.202      2.406      0.016       0.090       0.881\n",
      "Adult Mortality                    -0.0455      0.001    -49.127      0.000      -0.047      -0.044\n",
      "Alcohol                             0.0734      0.019      3.807      0.000       0.036       0.111\n",
      "percentage expenditure              0.0002   3.17e-05      5.051      0.000     9.8e-05       0.000\n",
      "Hepatitis B                        -0.0512      0.006     -9.139      0.000      -0.062      -0.040\n",
      "Measles                          -1.61e-05   6.25e-06     -2.576      0.010   -2.84e-05   -3.84e-06\n",
      "under-five deaths                  -0.0021      0.001     -4.080      0.000      -0.003      -0.001\n",
      "Diphtheria                          0.1113      0.006     18.743      0.000       0.100       0.123\n",
      " HIV/AIDS                          -0.0900      0.019     -4.742      0.000      -0.127      -0.053\n",
      "Income composition of resources     4.4471      0.426     10.439      0.000       3.612       5.282\n",
      "Schooling                           0.6615      0.034     19.232      0.000       0.594       0.729\n",
      "Population                        2.17e-09   6.28e-10      3.454      0.001    9.38e-10     3.4e-09\n",
      "==============================================================================\n",
      "Omnibus:                      622.992   Durbin-Watson:                   0.607\n",
      "Prob(Omnibus):                  0.000   Jarque-Bera (JB):             6419.022\n",
      "Skew:                          -0.755   Prob(JB):                         0.00\n",
      "Kurtosis:                      10.276   Cond. No.                     1.54e+09\n",
      "==============================================================================\n",
      "\n",
      "Warnings:\n",
      "[1] Standard Errors assume that the covariance matrix of the errors is correctly specified.\n",
      "[2] The condition number is large, 1.54e+09. This might indicate that there are\n",
      "strong multicollinearity or other numerical problems.\n"
     ]
    }
   ],
   "source": [
    "#Dropping columns : GDP, infant deaths\n",
    "import statsmodels.api as sm\n",
    "x_sm2 = df[['Status','Adult Mortality','Alcohol','percentage expenditure','Hepatitis B','Measles ','under-five deaths ','Diphtheria ',' HIV/AIDS','Income composition of resources','Schooling','Population']]\n",
    "y_sm2= df['Life expectancy '].values\n",
    "x_sm2 = sm.add_constant(x_sm2)\n",
    "model2 = sm.OLS(y_sm2, x_sm2).fit()\n",
    "predictions2 = model2.predict(x_sm2)\n",
    "print(model2.summary())\n",
    "# print(predictions2.summary())"
   ]
  },
  {
   "cell_type": "code",
   "execution_count": 34,
   "metadata": {
    "scrolled": true
   },
   "outputs": [
    {
     "data": {
      "text/plain": [
       "const                              112.422155\n",
       "Status                               1.992142\n",
       "Adult Mortality                      3.795324\n",
       "Alcohol                              1.941189\n",
       "percentage expenditure               1.356317\n",
       "Hepatitis B                          1.735954\n",
       "Measles                              1.685264\n",
       "under-five deaths                    2.323519\n",
       "Diphtheria                           2.544892\n",
       " HIV/AIDS                            2.321227\n",
       "Income composition of resources      2.541191\n",
       "Schooling                            3.697901\n",
       "Population                           2.457363\n",
       "dtype: float64"
      ]
     },
     "execution_count": 34,
     "metadata": {},
     "output_type": "execute_result"
    }
   ],
   "source": [
    "from statsmodels.stats.outliers_influence import variance_inflation_factor\n",
    "from statsmodels.tools.tools import add_constant\n",
    "pd.Series([variance_inflation_factor(x_sm2.values, i) \n",
    "               for i in range(x_sm2.shape[1])], \n",
    "              index=x_sm2.columns)\n"
   ]
  },
  {
   "cell_type": "code",
   "execution_count": 48,
   "metadata": {},
   "outputs": [
    {
     "name": "stdout",
     "output_type": "stream",
     "text": [
      "[2.91655197]\n"
     ]
    }
   ],
   "source": [
    "import statsmodels\n",
    "rmse = statsmodels.tools.eval_measures.rmse([y_sm2],[predictions2],axis = 1)\n",
    "print(rmse)"
   ]
  },
  {
   "cell_type": "code",
   "execution_count": 37,
   "metadata": {
    "scrolled": true
   },
   "outputs": [
    {
     "data": {
      "text/plain": [
       "Text(0, 0.5, 'Predictions')"
      ]
     },
     "execution_count": 37,
     "metadata": {},
     "output_type": "execute_result"
    },
    {
     "data": {
      "image/png": "[encoded data removed]",
      "text/plain": [
       "<Figure size 432x288 with 1 Axes>"
      ]
     },
     "metadata": {
      "needs_background": "light"
     },
     "output_type": "display_data"
    }
   ],
   "source": [
    "sns.regplot(x=y_sm2,y=predictions2,data=df)\n",
    "plt.xlabel('True Values')\n",
    "plt.ylabel('Predictions')"
   ]
  },
  {
   "cell_type": "code",
   "execution_count": 38,
   "metadata": {
    "scrolled": true
   },
   "outputs": [
    {
     "name": "stdout",
     "output_type": "stream",
     "text": [
      "                            OLS Regression Results                            \n",
      "==============================================================================\n",
      "Dep. Variable:                      y   R-squared:                       0.901\n",
      "Model:                            OLS   Adj. R-squared:                  0.901\n",
      "Method:                 Least Squares   F-statistic:                     2114.\n",
      "Date:                Sun, 28 Jul 2019   Prob (F-statistic):               0.00\n",
      "Time:                        19:35:55   Log-Likelihood:                -6966.0\n",
      "No. Observations:                2790   AIC:                         1.396e+04\n",
      "Df Residuals:                    2777   BIC:                         1.404e+04\n",
      "Df Model:                          12                                         \n",
      "Covariance Type:            nonrobust                                         \n",
      "===================================================================================================\n",
      "                                      coef    std err          t      P>|t|      [0.025      0.975]\n",
      "---------------------------------------------------------------------------------------------------\n",
      "const                              61.4502      0.596    103.175      0.000      60.282      62.618\n",
      "Status                              0.4983      0.204      2.447      0.014       0.099       0.897\n",
      "Adult Mortality                    -0.0453      0.001    -48.496      0.000      -0.047      -0.043\n",
      "Alcohol                             0.0686      0.019      3.529      0.000       0.030       0.107\n",
      "percentage expenditure              0.0002    3.2e-05      4.838      0.000    9.19e-05       0.000\n",
      "Hepatitis B                        -0.0517      0.006     -8.951      0.000      -0.063      -0.040\n",
      "Polio                               0.1105      0.006     17.467      0.000       0.098       0.123\n",
      "Measles                          -1.83e-05   6.29e-06     -2.912      0.004   -3.06e-05   -5.98e-06\n",
      "under-five deaths                  -0.0025      0.001     -4.780      0.000      -0.003      -0.001\n",
      " HIV/AIDS                          -0.0911      0.019     -4.762      0.000      -0.129      -0.054\n",
      "Income composition of resources     4.4785      0.429     10.435      0.000       3.637       5.320\n",
      "Schooling                           0.6756      0.035     19.529      0.000       0.608       0.743\n",
      "Population                       2.501e-09   6.31e-10      3.964      0.000    1.26e-09    3.74e-09\n",
      "==============================================================================\n",
      "Omnibus:                      620.748   Durbin-Watson:                   0.609\n",
      "Prob(Omnibus):                  0.000   Jarque-Bera (JB):             6264.055\n",
      "Skew:                          -0.758   Prob(JB):                         0.00\n",
      "Kurtosis:                      10.182   Cond. No.                     1.55e+09\n",
      "==============================================================================\n",
      "\n",
      "Warnings:\n",
      "[1] Standard Errors assume that the covariance matrix of the errors is correctly specified.\n",
      "[2] The condition number is large, 1.55e+09. This might indicate that there are\n",
      "strong multicollinearity or other numerical problems.\n"
     ]
    }
   ],
   "source": [
    "import statsmodels.api as sm\n",
    "x_sm3 = df[['Status','Adult Mortality','Alcohol','percentage expenditure','Hepatitis B','Polio','Measles ','under-five deaths ',' HIV/AIDS','Income composition of resources','Schooling','Population']]\n",
    "y_sm3= df['Life expectancy '].values\n",
    "x_sm3 = sm.add_constant(x_sm3)\n",
    "model3 = sm.OLS(y_sm2, x_sm3).fit()\n",
    "predictions3 = model3.predict(x_sm3)\n",
    "print(model3.summary())\n",
    "# print(predictions2.summary())"
   ]
  },
  {
   "cell_type": "code",
   "execution_count": 39,
   "metadata": {},
   "outputs": [
    {
     "name": "stderr",
     "output_type": "stream",
     "text": [
      "C:\\Users\\tanay\\Anaconda3\\lib\\site-packages\\statsmodels\\regression\\linear_model.py:1543: RuntimeWarning:\n",
      "\n",
      "divide by zero encountered in double_scalars\n",
      "\n"
     ]
    },
    {
     "data": {
      "text/plain": [
       "const                                0.000000\n",
       "Status                               2.092833\n",
       "Adult Mortality                      3.869256\n",
       "infant deaths                      300.882724\n",
       "Alcohol                              2.097973\n",
       "percentage expenditure               1.363552\n",
       "Hepatitis B                          1.862026\n",
       "Measles                              1.871911\n",
       "under-five deaths                  277.525498\n",
       "Polio                               18.383354\n",
       "Total expenditure                    1.410749\n",
       "Diphtheria                          18.056527\n",
       " HIV/AIDS                            2.344058\n",
       " thinness  1-19 years                8.693215\n",
       " thinness 5-9 years                  8.706779\n",
       "Income composition of resources      2.581960\n",
       "Schooling                            3.787118\n",
       "GDP                                  1.772694\n",
       "Population                           5.320391\n",
       "dtype: float64"
      ]
     },
     "execution_count": 39,
     "metadata": {},
     "output_type": "execute_result"
    }
   ],
   "source": [
    "from statsmodels.stats.outliers_influence import variance_inflation_factor\n",
    "from statsmodels.tools.tools import add_constant\n",
    "pd.Series([variance_inflation_factor(x_sm.values, i) \n",
    "               for i in range(x_sm.shape[1])], \n",
    "              index=x_sm.columns)\n"
   ]
  },
  {
   "cell_type": "code",
   "execution_count": 47,
   "metadata": {},
   "outputs": [
    {
     "data": {
      "text/plain": [
       "69.6627956989248"
      ]
     },
     "execution_count": 47,
     "metadata": {},
     "output_type": "execute_result"
    }
   ],
   "source": [
    "df.loc[:,\"Life expectancy \"].mean()"
   ]
  },
  {
   "cell_type": "code",
   "execution_count": 42,
   "metadata": {},
   "outputs": [
    {
     "data": {
      "text/plain": [
       "69.66279570646044"
      ]
     },
     "execution_count": 42,
     "metadata": {},
     "output_type": "execute_result"
    }
   ],
   "source": [
    "predictions2.mean()"
   ]
  },
  {
   "cell_type": "code",
   "execution_count": null,
   "metadata": {},
   "outputs": [],
   "source": []
  }
 ],
 "metadata": {
  "kernelspec": {
   "display_name": "Python 3",
   "language": "python",
   "name": "python3"
  },
  "language_info": {
   "codemirror_mode": {
    "name": "ipython",
    "version": 3
   },
   "file_extension": ".py",
   "mimetype": "text/x-python",
   "name": "python",
   "nbconvert_exporter": "python",
   "pygments_lexer": "ipython3",
   "version": "3.7.3"
  }
 },
 "nbformat": 4,
 "nbformat_minor": 2
}
